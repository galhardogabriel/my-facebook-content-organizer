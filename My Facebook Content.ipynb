{
 "cells": [
  {
   "cell_type": "code",
   "execution_count": 1,
   "metadata": {},
   "outputs": [],
   "source": [
    "import json\n",
    "import nltk\n",
    "import spacy\n",
    "import pandas as pd\n",
    "import numpy as np\n",
    "import html\n",
    "import time\n",
    "from datetime import datetime"
   ]
  },
  {
   "cell_type": "code",
   "execution_count": 2,
   "metadata": {},
   "outputs": [],
   "source": [
    "#here I imported spacy Portuguese package for interpreting my comments\n",
    "nlp=spacy.load('pt_core_news_lg')"
   ]
  },
  {
   "cell_type": "code",
   "execution_count": 3,
   "metadata": {},
   "outputs": [],
   "source": [
    "#here is an example of how spacy can interpret your text\n",
    "doc=nlp(u'Esta é uma frase que servirá de exemplo para o nosso programa.')"
   ]
  },
  {
   "cell_type": "code",
   "execution_count": 4,
   "metadata": {},
   "outputs": [
    {
     "name": "stdout",
     "output_type": "stream",
     "text": [
      "Esta PRON\n",
      "é AUX\n",
      "uma DET\n",
      "frase NOUN\n",
      "que PRON\n",
      "servirá VERB\n",
      "de ADP\n",
      "exemplo NOUN\n",
      "para ADP\n",
      "o DET\n",
      "nosso DET\n",
      "programa NOUN\n",
      ". PUNCT\n"
     ]
    }
   ],
   "source": [
    "for token in doc:\n",
    "    print (token.text, token.pos_, )"
   ]
  },
  {
   "cell_type": "code",
   "execution_count": 8,
   "metadata": {},
   "outputs": [],
   "source": [
    "# with open(\"C:\\\\Users\\\\asus\\\\Downloads\\\\facebook-galhardogabriel\\\\comments\\\\comments.json\",'r') as f:\n",
    "#     myjson = f.read()\n",
    "# obj=json.loads(myjson)"
   ]
  },
  {
   "cell_type": "code",
   "execution_count": 9,
   "metadata": {},
   "outputs": [
    {
     "data": {
      "text/plain": [
       "19348"
      ]
     },
     "execution_count": 9,
     "metadata": {},
     "output_type": "execute_result"
    }
   ],
   "source": [
    "#below is the path to my file that contains all my posts and comments in groups. It can be downloaded on your privacy settings in FB\n",
    "with open(\"C:\\\\Users\\\\asus\\\\Downloads\\\\facebook-galhardogabriel\\\\groups\\\\your_posts_and_comments_in_groups.json\",'r') as f:\n",
    "    myjson = f.read()\n",
    "obj=json.loads(myjson)\n",
    "len(obj['group_posts']['activity_log_data'])"
   ]
  },
  {
   "cell_type": "code",
   "execution_count": 86,
   "metadata": {},
   "outputs": [
    {
     "data": {
      "text/plain": [
       "{'timestamp': 1579106046,\n",
       " 'comment': 'Eu fico contente de ver qualquer paÃ\\xads com avanÃ§os sociais, mas pelo que tÃ¡ descrito ali, parece que sÃ³ levaram em conta passivos e nÃ£o ativos intangÃ\\xadveis (Ex: Estudante tem potencial de gerar muito mais renda que sua dÃ\\xadvida estudantil)...bem complexo',\n",
       " 'author': 'Gabriel Galhardo',\n",
       " 'group': 'Inflacionistas'}"
      ]
     },
     "execution_count": 86,
     "metadata": {},
     "output_type": "execute_result"
    }
   ],
   "source": [
    "obj['group_posts']['activity_log_data'][11135]['data'][0]['comment']"
   ]
  },
  {
   "cell_type": "code",
   "execution_count": 87,
   "metadata": {},
   "outputs": [],
   "source": [
    "df=pd.DataFrame([obj['group_posts']['activity_log_data'][0]['data'][0]['comment']])"
   ]
  },
  {
   "cell_type": "code",
   "execution_count": 88,
   "metadata": {},
   "outputs": [],
   "source": [
    "#Here it makes a DataFrame with all the data in a more friendly format for those who prefer to use Excel (takes a while to load)\n",
    "for i in range(len(obj['group_posts']['activity_log_data'])):\n",
    "    try:\n",
    "        df=df.append([obj['group_posts']['activity_log_data'][i]['data'][0]['comment']],ignore_index=True)\n",
    "    except:\n",
    "        continue"
   ]
  },
  {
   "cell_type": "code",
   "execution_count": 89,
   "metadata": {},
   "outputs": [
    {
     "data": {
      "text/plain": [
       "'2020-12-01 14:37:16'"
      ]
     },
     "execution_count": 89,
     "metadata": {},
     "output_type": "execute_result"
    }
   ],
   "source": [
    "#Adjusting encoding\n",
    "df['comment']=df['comment'].apply(lambda x:x.encode(\"ISO-8859-1\").decode(\"utf-8\"))\n",
    "datetime.utcfromtimestamp(1606833436).strftime('%Y-%m-%d %H:%M:%S')"
   ]
  },
  {
   "cell_type": "code",
   "execution_count": 90,
   "metadata": {},
   "outputs": [],
   "source": [
    "df['timestamp']=df['timestamp'].apply(lambda x:datetime.utcfromtimestamp(x).strftime('%Y-%m-%d %H:%M:%S'))"
   ]
  },
  {
   "cell_type": "code",
   "execution_count": 91,
   "metadata": {},
   "outputs": [
    {
     "data": {
      "text/html": [
       "<div>\n",
       "<style scoped>\n",
       "    .dataframe tbody tr th:only-of-type {\n",
       "        vertical-align: middle;\n",
       "    }\n",
       "\n",
       "    .dataframe tbody tr th {\n",
       "        vertical-align: top;\n",
       "    }\n",
       "\n",
       "    .dataframe thead th {\n",
       "        text-align: right;\n",
       "    }\n",
       "</style>\n",
       "<table border=\"1\" class=\"dataframe\">\n",
       "  <thead>\n",
       "    <tr style=\"text-align: right;\">\n",
       "      <th></th>\n",
       "      <th>timestamp</th>\n",
       "      <th>comment</th>\n",
       "      <th>author</th>\n",
       "      <th>group</th>\n",
       "    </tr>\n",
       "  </thead>\n",
       "  <tbody>\n",
       "    <tr>\n",
       "      <th>0</th>\n",
       "      <td>2020-12-01 14:37:16</td>\n",
       "      <td>Eu vivi pra ver bolsonarista compartilhando re...</td>\n",
       "      <td>Gabriel Galhardo</td>\n",
       "      <td>Inflacionistas</td>\n",
       "    </tr>\n",
       "    <tr>\n",
       "      <th>1</th>\n",
       "      <td>2020-12-01 14:37:16</td>\n",
       "      <td>Eu vivi pra ver bolsonarista compartilhando re...</td>\n",
       "      <td>Gabriel Galhardo</td>\n",
       "      <td>Inflacionistas</td>\n",
       "    </tr>\n",
       "    <tr>\n",
       "      <th>2</th>\n",
       "      <td>2020-12-01 14:37:16</td>\n",
       "      <td>Eu vivi pra ver bolsonarista compartilhando re...</td>\n",
       "      <td>Gabriel Galhardo</td>\n",
       "      <td>Inflacionistas</td>\n",
       "    </tr>\n",
       "    <tr>\n",
       "      <th>3</th>\n",
       "      <td>2020-12-01 11:18:51</td>\n",
       "      <td>Marcelo Go Porque ele tem pessoas de Oxford, d...</td>\n",
       "      <td>Gabriel Galhardo</td>\n",
       "      <td>Inflacionistas</td>\n",
       "    </tr>\n",
       "    <tr>\n",
       "      <th>4</th>\n",
       "      <td>2020-12-01 11:18:51</td>\n",
       "      <td>Marcelo Go Porque ele tem pessoas de Oxford, d...</td>\n",
       "      <td>Gabriel Galhardo</td>\n",
       "      <td>Inflacionistas</td>\n",
       "    </tr>\n",
       "  </tbody>\n",
       "</table>\n",
       "</div>"
      ],
      "text/plain": [
       "             timestamp                                            comment  \\\n",
       "0  2020-12-01 14:37:16  Eu vivi pra ver bolsonarista compartilhando re...   \n",
       "1  2020-12-01 14:37:16  Eu vivi pra ver bolsonarista compartilhando re...   \n",
       "2  2020-12-01 14:37:16  Eu vivi pra ver bolsonarista compartilhando re...   \n",
       "3  2020-12-01 11:18:51  Marcelo Go Porque ele tem pessoas de Oxford, d...   \n",
       "4  2020-12-01 11:18:51  Marcelo Go Porque ele tem pessoas de Oxford, d...   \n",
       "\n",
       "             author           group  \n",
       "0  Gabriel Galhardo  Inflacionistas  \n",
       "1  Gabriel Galhardo  Inflacionistas  \n",
       "2  Gabriel Galhardo  Inflacionistas  \n",
       "3  Gabriel Galhardo  Inflacionistas  \n",
       "4  Gabriel Galhardo  Inflacionistas  "
      ]
     },
     "execution_count": 91,
     "metadata": {},
     "output_type": "execute_result"
    }
   ],
   "source": [
    "df.head()"
   ]
  },
  {
   "cell_type": "code",
   "execution_count": 92,
   "metadata": {},
   "outputs": [],
   "source": [
    "# Most common groups can be found uncommenting the line below\n",
    "# df.pivot_table('comment',index='group',aggfunc='count').sort_values('comment')"
   ]
  },
  {
   "cell_type": "code",
   "execution_count": 96,
   "metadata": {},
   "outputs": [
    {
     "data": {
      "text/plain": [
       "87       verdade, eles precisam muito mais do made in B...\n",
       "88       verdade, eles precisam muito mais do made in B...\n",
       "1721     Max Parini just in Brazil, my country, there a...\n",
       "1722     Max Parini just in Brazil, my country, there a...\n",
       "2665     You should write this in Italian, bro...I was ...\n",
       "                               ...                        \n",
       "12161    Jessica, I've been participating actively in J...\n",
       "12162    Jessica, I've been participating actively in J...\n",
       "12430    Guys, in the Brazilian group of facebook we ha...\n",
       "12431    Guys, in the Brazilian group of facebook we ha...\n",
       "16011    If it works like Brazilian consulates, you sho...\n",
       "Name: comment, Length: 61, dtype: object"
      ]
     },
     "execution_count": 96,
     "metadata": {},
     "output_type": "execute_result"
    }
   ],
   "source": [
    "#if you change the .contains('XXXXX') you can filter your dataset by any word you want\n",
    "df[df['comment'].str.contains('Brazil')]['comment']\n",
    "# for i in list(df[df['comment'].str.contains('bolsonaro')]['comment']):\n",
    "#     print(i)"
   ]
  },
  {
   "cell_type": "code",
   "execution_count": null,
   "metadata": {},
   "outputs": [],
   "source": []
  }
 ],
 "metadata": {
  "kernelspec": {
   "display_name": "nlp_course",
   "language": "python",
   "name": "nlp_course"
  },
  "language_info": {
   "codemirror_mode": {
    "name": "ipython",
    "version": 3
   },
   "file_extension": ".py",
   "mimetype": "text/x-python",
   "name": "python",
   "nbconvert_exporter": "python",
   "pygments_lexer": "ipython3",
   "version": "3.7.6"
  }
 },
 "nbformat": 4,
 "nbformat_minor": 4
}
